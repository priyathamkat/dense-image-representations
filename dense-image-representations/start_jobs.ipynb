{
 "cells": [
  {
   "cell_type": "code",
   "execution_count": 2,
   "metadata": {},
   "outputs": [
    {
     "name": "stdout",
     "output_type": "stream",
     "text": [
      "#!/bin/bash\n",
      "#SBATCH --job-name=5120.01\n",
      "#SBATCH --output results/coco-32-2-512-0.01.log\n",
      "#SBATCH --error results/coco-32-2-512-0.01.log\n",
      "#SBATCH --time=72:00:00\n",
      "#SBATCH --gres=gpu:rtxa5000:1\n",
      "#SBATCH --qos=scavenger\n",
      "#SBATCH --account=scavenger\n",
      "#SBATCH --partition=scavenger\n",
      "#SBATCH --cpus-per-task=16\n",
      "#SBATCH --mem=32G\n",
      "\n",
      "python3 train.py \\\n",
      "--vision_graph_data coco_visual_graph \\\n",
      "--text_graph_data coco_text_graph \\\n",
      "--batch_size 512 \\\n",
      "--hidden_channels 32 \\\n",
      "--num_layers 2 \\\n",
      "--lr 0.01 \\\n",
      "--exp_name coco-32-2-512-0.01 \\\n"
     ]
    }
   ],
   "source": [
    "import re\n",
    "import subprocess\n",
    "import time\n",
    "import os\n",
    "from random import randrange \n",
    "import glob \n",
    "\n",
    "\n",
    "file = \"\"\n",
    "filename = f\"run_script.sh\"\n",
    "\n",
    "with open(filename) as f:\n",
    "    file = f.read()\n",
    "\n",
    "\n",
    "batch_sizes = [512, 256]\n",
    "lrs = [1e-2]\n",
    "hidden_channelss = [32]\n",
    "num_layerss = [2]\n",
    "\n",
    "for lr in lrs:\n",
    "    for batch_size in batch_sizes:\n",
    "        for hidden_channels in hidden_channelss:\n",
    "            for num_layers in num_layerss:\n",
    "                exp_name = f\"coco-{hidden_channels}-{num_layers}-{batch_size}-{lr}\"\n",
    "\n",
    "                result_dir = f\"results/{exp_name}\"\n",
    "                # if not os.path.exists(result_dir):\n",
    "                #     os.makedirs(result_dir)\n",
    "\n",
    "                file = re.sub('--lr .*', f\"--lr {lr} \" + r\"\\\\\" , file)\n",
    "                file = re.sub('--batch_size .*', f\"--batch_size {batch_size} \" + r\"\\\\\" , file)\n",
    "                file = re.sub('--hidden_channels .*', f\"--hidden_channels {hidden_channels} \" + r\"\\\\\" , file)\n",
    "                file = re.sub('--num_layers .*', f\"--num_layers {num_layers} \" + r\"\\\\\" , file)\n",
    "                file = re.sub('--exp_name .*', f\"--exp_name {exp_name} \" + r\"\\\\\" , file)\n",
    "\n",
    "                file = re.sub('--job-name=.*', f\"--job-name={batch_size}{lr}\", file)\n",
    "                file = re.sub('--output .*', f\"--output {result_dir}.log\", file)\n",
    "                file = re.sub('--error .*', f\"--error {result_dir}.log\", file)\n",
    "\n",
    "                # if qscore_reg and \"--qscore_reg \\\\\" not in file:\n",
    "                #     file += \"\\n--qscore_reg \\\\\"\n",
    "                # elif qscore_reg == False and \"--qscore_reg \\\\\" in file:\n",
    "                #     split = file.split(\"\\n--qscore_reg \\\\\")\n",
    "                #     file = \"\".join(split)\n",
    "\n",
    "                print(file)\n",
    "\n",
    "                with open(filename, 'w') as f:\n",
    "                    f.write(file)\n",
    "\n",
    "                subprocess.run([\"sbatch\", filename])"
   ]
  },
  {
   "cell_type": "code",
   "execution_count": 1,
   "metadata": {},
   "outputs": [],
   "source": [
    "import subprocess\n",
    "for i in range(2332000, 2332021):\n",
    "    subprocess.run([\"scancel\", str(i)])"
   ]
  },
  {
   "cell_type": "code",
   "execution_count": null,
   "metadata": {},
   "outputs": [],
   "source": []
  }
 ],
 "metadata": {
  "kernelspec": {
   "display_name": "work",
   "language": "python",
   "name": "python3"
  },
  "language_info": {
   "codemirror_mode": {
    "name": "ipython",
    "version": 3
   },
   "file_extension": ".py",
   "mimetype": "text/x-python",
   "name": "python",
   "nbconvert_exporter": "python",
   "pygments_lexer": "ipython3",
   "version": "3.11.2"
  }
 },
 "nbformat": 4,
 "nbformat_minor": 2
}
