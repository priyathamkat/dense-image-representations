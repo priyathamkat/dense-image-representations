{
 "cells": [
  {
   "cell_type": "code",
   "execution_count": 14,
   "metadata": {},
   "outputs": [
    {
     "name": "stdout",
     "output_type": "stream",
     "text": [
      "5e-06-clip_preembed_clip_transformer\n",
      "1e-06-clip_preembed_clip_transformer\n",
      "5e-05-clip_preembed_clip_transformer\n",
      "1e-06-clip_clip_transformer\n",
      "5e-06-clip_clip_transformer\n",
      "1e-05-clip_preembed_clip_transformer\n",
      "5e-05-clip_clip_transformer\n",
      "1e-05-clip_clip_transformer\n",
      "5e-05-clip-clip_baseline\n"
     ]
    },
    {
     "ename": "IndexError",
     "evalue": "list index out of range",
     "output_type": "error",
     "traceback": [
      "\u001b[0;31m---------------------------------------------------------------------------\u001b[0m",
      "\u001b[0;31mIndexError\u001b[0m                                Traceback (most recent call last)",
      "Cell \u001b[0;32mIn[14], line 46\u001b[0m\n\u001b[1;32m     44\u001b[0m \u001b[38;5;28;01mif\u001b[39;00m \u001b[38;5;28mlen\u001b[39m(re\u001b[38;5;241m.\u001b[39mfindall(\u001b[38;5;124mr\u001b[39m\u001b[38;5;124m'\u001b[39m\u001b[38;5;124mmodel_99.pth.tar\u001b[39m\u001b[38;5;124m'\u001b[39m, lines)) \u001b[38;5;241m==\u001b[39m \u001b[38;5;241m0\u001b[39m:\n\u001b[1;32m     45\u001b[0m     \u001b[38;5;28;01mraise\u001b[39;00m \u001b[38;5;167;01mValueError\u001b[39;00m(\u001b[38;5;124m'\u001b[39m\u001b[38;5;124mCheckpoint not saved\u001b[39m\u001b[38;5;124m'\u001b[39m)\n\u001b[0;32m---> 46\u001b[0m text_correct[exp] \u001b[38;5;241m=\u001b[39m \u001b[43mre\u001b[49m\u001b[38;5;241;43m.\u001b[39;49m\u001b[43mfindall\u001b[49m\u001b[43m(\u001b[49m\u001b[38;5;124;43mr\u001b[39;49m\u001b[38;5;124;43m'\u001b[39;49m\u001b[38;5;124;43mText Correct: (.*)\u001b[39;49m\u001b[38;5;124;43m'\u001b[39;49m\u001b[43m,\u001b[49m\u001b[43m \u001b[49m\u001b[43mlines\u001b[49m\u001b[43m)\u001b[49m\u001b[43m[\u001b[49m\u001b[38;5;241;43m0\u001b[39;49m\u001b[43m]\u001b[49m\n\u001b[1;32m     47\u001b[0m image_correct[exp] \u001b[38;5;241m=\u001b[39m re\u001b[38;5;241m.\u001b[39mfindall(\u001b[38;5;124mr\u001b[39m\u001b[38;5;124m'\u001b[39m\u001b[38;5;124mImage Correct: (.*)\u001b[39m\u001b[38;5;124m'\u001b[39m, lines)[\u001b[38;5;241m0\u001b[39m]\n\u001b[1;32m     48\u001b[0m group_correct[exp] \u001b[38;5;241m=\u001b[39m re\u001b[38;5;241m.\u001b[39mfindall(\u001b[38;5;124mr\u001b[39m\u001b[38;5;124m'\u001b[39m\u001b[38;5;124mGroup Correct: (.*)\u001b[39m\u001b[38;5;124m'\u001b[39m, lines)[\u001b[38;5;241m0\u001b[39m]\n",
      "\u001b[0;31mIndexError\u001b[0m: list index out of range"
     ]
    }
   ],
   "source": [
    "import re\n",
    "import glob\n",
    "\n",
    "exps = [\n",
    "    'coco-256-5e-05-100-6-512-clip_paramproj',\n",
    "'coco-256-5e-05-100-512-vit-t5_paramproj_base',\n",
    "'coco-256-5e-05-100-256-vit-t5_paramproj_base',\n",
    "'coco-256-5e-05-100-128-vit-t5_paramproj_base',\n",
    "'coco-256-5e-05-100-8-512-t5_paramproj',\n",
    "'coco-256-5e-05-100-12-512-t5_paramproj',\n",
    "'coco-256-5e-05-100-6-128-t5_paramproj',\n",
    "'coco-256-5e-05-100-6-512-t5_paramproj',\n",
    "'coco-256-5e-05-100-6-256-t5_paramproj',\n",
    "]\n",
    "\n",
    "exps = [\n",
    "    'clip32-clip32_baseline',\n",
    "    '1e-06-clip-clip_baseline',\n",
    "    '5e-06-clip-clip_baseline',\n",
    "    '1e-05-clip-clip_baseline',\n",
    "    '4-clip',\n",
    "    '6-clip',\n",
    "    '8-clip',\n",
    "    '12-clip',\n",
    "    '4-clip_preembed',\n",
    "    '6-clip_preembed',\n",
    "    '8-clip_preembed',\n",
    "    '5e-06-8-clip',\n",
    "    '1e-06-8-clip',\n",
    "    '1e-05-8-clip',\n",
    "    '12-clip_preembed',\n",
    "]\n",
    "\n",
    "exps = [f.split('/')[1] for f in glob.glob('results_clip32/*_clip_transformer')]\n",
    "exps += [f.split('/')[1] for f in glob.glob('results_clip32/*_baseline')]\n",
    "\n",
    "text_correct = {}\n",
    "image_correct = {}\n",
    "group_correct = {}\n",
    "for exp in exps:\n",
    "    print(exp)\n",
    "    with open(f'results_clip32/{exp}/winoground.log') as f:\n",
    "        lines = f.read()\n",
    "        if len(re.findall(r'model_99.pth.tar', lines)) == 0:\n",
    "            raise ValueError('Checkpoint not saved')\n",
    "        text_correct[exp] = re.findall(r'Text Correct: (.*)', lines)[0]\n",
    "        image_correct[exp] = re.findall(r'Image Correct: (.*)', lines)[0]\n",
    "        group_correct[exp] = re.findall(r'Group Correct: (.*)', lines)[0]\n",
    "    "
   ]
  },
  {
   "cell_type": "code",
   "execution_count": 6,
   "metadata": {},
   "outputs": [
    {
     "data": {
      "text/plain": [
       "{'5e-06-clip_preembed_clip_transformer': '24.25',\n",
       " '1e-06-clip_preembed_clip_transformer': '21.5',\n",
       " '5e-05-clip_preembed_clip_transformer': '21.25',\n",
       " '1e-06-clip_clip_transformer': '23.75',\n",
       " '5e-06-clip_clip_transformer': '24.0',\n",
       " '1e-05-clip_preembed_clip_transformer': '24.5',\n",
       " '5e-05-clip_clip_transformer': '21.0',\n",
       " '1e-05-clip_clip_transformer': '26.25',\n",
       " '5e-05-clip-clip_baseline': '28.25',\n",
       " '1e-05-clip-clip_baseline': '28.0',\n",
       " '5e-06-clip-clip_baseline': '29.0',\n",
       " '1e-06-clip-clip_baseline': '31.25'}"
      ]
     },
     "execution_count": 6,
     "metadata": {},
     "output_type": "execute_result"
    }
   ],
   "source": [
    "text_correct"
   ]
  },
  {
   "cell_type": "code",
   "execution_count": 7,
   "metadata": {},
   "outputs": [
    {
     "data": {
      "text/plain": [
       "{'5e-06-clip_preembed_clip_transformer': '14.75',\n",
       " '1e-06-clip_preembed_clip_transformer': '8.25',\n",
       " '5e-05-clip_preembed_clip_transformer': '11.5',\n",
       " '1e-06-clip_clip_transformer': '13.0',\n",
       " '5e-06-clip_clip_transformer': '14.75',\n",
       " '1e-05-clip_preembed_clip_transformer': '11.75',\n",
       " '5e-05-clip_clip_transformer': '11.0',\n",
       " '1e-05-clip_clip_transformer': '13.25',\n",
       " '5e-05-clip-clip_baseline': '12.0',\n",
       " '1e-05-clip-clip_baseline': '11.75',\n",
       " '5e-06-clip-clip_baseline': '12.25',\n",
       " '1e-06-clip-clip_baseline': '11.25'}"
      ]
     },
     "execution_count": 7,
     "metadata": {},
     "output_type": "execute_result"
    }
   ],
   "source": [
    "image_correct"
   ]
  },
  {
   "cell_type": "code",
   "execution_count": 8,
   "metadata": {},
   "outputs": [
    {
     "data": {
      "text/plain": [
       "{'5e-06-clip_preembed_clip_transformer': '9.75',\n",
       " '1e-06-clip_preembed_clip_transformer': '4.0',\n",
       " '5e-05-clip_preembed_clip_transformer': '7.5',\n",
       " '1e-06-clip_clip_transformer': '7.25',\n",
       " '5e-06-clip_clip_transformer': '9.75',\n",
       " '1e-05-clip_preembed_clip_transformer': '8.25',\n",
       " '5e-05-clip_clip_transformer': '6.75',\n",
       " '1e-05-clip_clip_transformer': '7.5',\n",
       " '5e-05-clip-clip_baseline': '7.25',\n",
       " '1e-05-clip-clip_baseline': '8.75',\n",
       " '5e-06-clip-clip_baseline': '8.5',\n",
       " '1e-06-clip-clip_baseline': '8.25'}"
      ]
     },
     "execution_count": 8,
     "metadata": {},
     "output_type": "execute_result"
    }
   ],
   "source": [
    "group_correct"
   ]
  },
  {
   "cell_type": "code",
   "execution_count": 15,
   "metadata": {},
   "outputs": [
    {
     "name": "stdout",
     "output_type": "stream",
     "text": [
      "5e-06-clip_preembed_clip_transformer\n",
      "1e-06-clip_preembed_clip_transformer\n",
      "5e-05-clip_preembed_clip_transformer\n",
      "1e-06-clip_clip_transformer\n",
      "5e-06-clip_clip_transformer\n",
      "1e-05-clip_preembed_clip_transformer\n",
      "5e-05-clip_clip_transformer\n",
      "1e-05-clip_clip_transformer\n",
      "5e-05-clip-clip_baseline\n",
      "1e-05-clip-clip_baseline\n",
      "5e-06-clip-clip_baseline\n",
      "1e-06-clip-clip_baseline\n"
     ]
    }
   ],
   "source": [
    "import re\n",
    "\n",
    "\n",
    "exps = [\n",
    "    'clip32-clip32_baseline',\n",
    "    '1e-06-clip-clip_baseline',\n",
    "    '5e-06-clip-clip_baseline',\n",
    "    '1e-05-clip-clip_baseline',\n",
    "    '4-clip',\n",
    "    '6-clip',\n",
    "    '8-clip',\n",
    "    '12-clip',\n",
    "    '4-clip_preembed',\n",
    "    '6-clip_preembed',\n",
    "    '8-clip_preembed',\n",
    "    '5e-06-8-clip',\n",
    "    '1e-06-8-clip',\n",
    "    '1e-05-8-clip',\n",
    "    '12-clip_preembed',\n",
    "]\n",
    "\n",
    "exps = [f.split('/')[1] for f in glob.glob('results_clip32/*_clip_transformer')]\n",
    "exps += [f.split('/')[1] for f in glob.glob('results_clip32/*_baseline')]\n",
    "\n",
    "vgr_accuracy = {}\n",
    "vga_accuracy = {}\n",
    "coco_accuracy = {}\n",
    "for exp in exps:\n",
    "    print(exp)\n",
    "    with open(f'results_clip32/{exp}/aro_vgr.log') as f:\n",
    "        lines = f.read()\n",
    "        if len(re.findall(r'model_99.pth.tar', lines)) == 0:\n",
    "            raise ValueError('Checkpoint not saved')\n",
    "        vgr_accuracy[exp] = re.findall(r'Accuracy: (.*)', lines)[0]\n",
    "\n",
    "    with open(f'results_clip32/{exp}/aro_vga.log') as f:\n",
    "        lines = f.read()\n",
    "        if len(re.findall(r'model_99.pth.tar', lines)) == 0:\n",
    "            raise ValueError('Checkpoint not saved')\n",
    "        vga_accuracy[exp] = re.findall(r'Accuracy: (.*)', lines)[0]\n",
    "\n",
    "    with open(f'results_clip32/{exp}/aro_coco_order.log') as f:\n",
    "        lines = f.read()\n",
    "        if len(re.findall(r'model_99.pth.tar', lines)) == 0:\n",
    "            raise ValueError('Checkpoint not saved')\n",
    "        coco_accuracy[exp] = re.findall(r'Accuracy: (.*)', lines)[0]\n",
    "    "
   ]
  },
  {
   "cell_type": "code",
   "execution_count": 16,
   "metadata": {},
   "outputs": [
    {
     "data": {
      "text/plain": [
       "{'5e-06-clip_preembed_clip_transformer': '0.5681698197813458',\n",
       " '1e-06-clip_preembed_clip_transformer': '0.6165232666936752',\n",
       " '5e-05-clip_preembed_clip_transformer': '0.56360418420284',\n",
       " '1e-06-clip_clip_transformer': '0.620498543516489',\n",
       " '5e-06-clip_clip_transformer': '0.6267428350826318',\n",
       " '1e-05-clip_preembed_clip_transformer': '0.5798493933853696',\n",
       " '5e-05-clip_clip_transformer': '0.6578665639395264',\n",
       " '1e-05-clip_clip_transformer': '0.6220000540870876',\n",
       " '5e-05-clip-clip_baseline': '0.6580979784516942',\n",
       " '1e-05-clip-clip_baseline': '0.618829835710481',\n",
       " '5e-06-clip-clip_baseline': '0.5925247320935988',\n",
       " '1e-06-clip-clip_baseline': '0.5881464068988561'}"
      ]
     },
     "execution_count": 16,
     "metadata": {},
     "output_type": "execute_result"
    }
   ],
   "source": [
    "vgr_accuracy"
   ]
  },
  {
   "cell_type": "code",
   "execution_count": 17,
   "metadata": {},
   "outputs": [
    {
     "data": {
      "text/plain": [
       "{'5e-06-clip_preembed_clip_transformer': '0.6184224393235095',\n",
       " '1e-06-clip_preembed_clip_transformer': '0.591506676598395',\n",
       " '5e-05-clip_preembed_clip_transformer': '0.595588376004183',\n",
       " '1e-06-clip_clip_transformer': '0.6025227370899011',\n",
       " '5e-06-clip_clip_transformer': '0.6000980975175958',\n",
       " '1e-05-clip_preembed_clip_transformer': '0.6122166533885742',\n",
       " '5e-05-clip_clip_transformer': '0.6032586036294059',\n",
       " '1e-05-clip_clip_transformer': '0.6139718619380922',\n",
       " '5e-05-clip-clip_baseline': '0.664942910233918',\n",
       " '1e-05-clip-clip_baseline': '0.6593002472462092',\n",
       " '5e-06-clip-clip_baseline': '0.6538418554990326',\n",
       " '1e-06-clip-clip_baseline': '0.6588339590483471'}"
      ]
     },
     "execution_count": 17,
     "metadata": {},
     "output_type": "execute_result"
    }
   ],
   "source": [
    "vga_accuracy"
   ]
  },
  {
   "cell_type": "code",
   "execution_count": 18,
   "metadata": {},
   "outputs": [
    {
     "data": {
      "text/plain": [
       "{'5e-06-clip_preembed_clip_transformer': '0.10815673730507797',\n",
       " '1e-06-clip_preembed_clip_transformer': '0.07361055577768892',\n",
       " '5e-05-clip_preembed_clip_transformer': '0.1886045581767293',\n",
       " '1e-06-clip_clip_transformer': '0.07564974010395842',\n",
       " '5e-06-clip_clip_transformer': '0.10131947221111555',\n",
       " '1e-05-clip_preembed_clip_transformer': '0.13414634146341464',\n",
       " '5e-05-clip_clip_transformer': '0.21547381047580969',\n",
       " '1e-05-clip_clip_transformer': '0.15337864854058378',\n",
       " '5e-05-clip-clip_baseline': '0.5586965213914434',\n",
       " '1e-05-clip-clip_baseline': '0.4640543782487005',\n",
       " '5e-06-clip-clip_baseline': '0.410515793682527',\n",
       " '1e-06-clip-clip_baseline': '0.34018392642942824'}"
      ]
     },
     "execution_count": 18,
     "metadata": {},
     "output_type": "execute_result"
    }
   ],
   "source": [
    "coco_accuracy"
   ]
  },
  {
   "cell_type": "code",
   "execution_count": null,
   "metadata": {},
   "outputs": [],
   "source": []
  }
 ],
 "metadata": {
  "kernelspec": {
   "display_name": "work",
   "language": "python",
   "name": "python3"
  },
  "language_info": {
   "codemirror_mode": {
    "name": "ipython",
    "version": 3
   },
   "file_extension": ".py",
   "mimetype": "text/x-python",
   "name": "python",
   "nbconvert_exporter": "python",
   "pygments_lexer": "ipython3",
   "version": "3.11.2"
  }
 },
 "nbformat": 4,
 "nbformat_minor": 2
}
