{
 "cells": [
  {
   "cell_type": "code",
   "execution_count": 1,
   "metadata": {},
   "outputs": [
    {
     "name": "stdout",
     "output_type": "stream",
     "text": [
      "clip32-clip32_baseline\n",
      "1e-06-clip-clip_baseline\n",
      "5e-06-clip-clip_baseline\n",
      "1e-05-clip-clip_baseline\n",
      "4-clip\n",
      "6-clip\n",
      "8-clip\n",
      "12-clip\n",
      "4-clip_preembed\n",
      "6-clip_preembed\n",
      "8-clip_preembed\n",
      "5e-06-8-clip\n",
      "1e-06-8-clip\n",
      "1e-05-8-clip\n",
      "12-clip_preembed\n"
     ]
    }
   ],
   "source": [
    "import re\n",
    "\n",
    "\n",
    "exps = [\n",
    "    'coco-256-5e-05-100-6-512-clip_paramproj',\n",
    "'coco-256-5e-05-100-512-vit-t5_paramproj_base',\n",
    "'coco-256-5e-05-100-256-vit-t5_paramproj_base',\n",
    "'coco-256-5e-05-100-128-vit-t5_paramproj_base',\n",
    "'coco-256-5e-05-100-8-512-t5_paramproj',\n",
    "'coco-256-5e-05-100-12-512-t5_paramproj',\n",
    "'coco-256-5e-05-100-6-128-t5_paramproj',\n",
    "'coco-256-5e-05-100-6-512-t5_paramproj',\n",
    "'coco-256-5e-05-100-6-256-t5_paramproj',\n",
    "]\n",
    "\n",
    "exps = [\n",
    "    'clip32-clip32_baseline',\n",
    "    '1e-06-clip-clip_baseline',\n",
    "    '5e-06-clip-clip_baseline',\n",
    "    '1e-05-clip-clip_baseline',\n",
    "    '4-clip',\n",
    "    '6-clip',\n",
    "    '8-clip',\n",
    "    '12-clip',\n",
    "    '4-clip_preembed',\n",
    "    '6-clip_preembed',\n",
    "    '8-clip_preembed',\n",
    "    '5e-06-8-clip',\n",
    "    '1e-06-8-clip',\n",
    "    '1e-05-8-clip',\n",
    "    '12-clip_preembed',\n",
    "]\n",
    "\n",
    "text_correct = {}\n",
    "image_correct = {}\n",
    "group_correct = {}\n",
    "for exp in exps:\n",
    "    print(exp)\n",
    "    with open(f'results/{exp}/winoground.log') as f:\n",
    "        lines = f.read()\n",
    "        text_correct[exp] = re.findall(r'Text Correct: (.*)', lines)[0]\n",
    "        image_correct[exp] = re.findall(r'Image Correct: (.*)', lines)[0]\n",
    "        group_correct[exp] = re.findall(r'Group Correct: (.*)', lines)[0]\n",
    "    "
   ]
  },
  {
   "cell_type": "code",
   "execution_count": 2,
   "metadata": {},
   "outputs": [
    {
     "data": {
      "text/plain": [
       "{'clip32-clip32_baseline': '30.75',\n",
       " '1e-06-clip-clip_baseline': '32.5',\n",
       " '5e-06-clip-clip_baseline': '30.5',\n",
       " '1e-05-clip-clip_baseline': '36.0',\n",
       " '4-clip': '27.0',\n",
       " '6-clip': '24.0',\n",
       " '8-clip': '28.0',\n",
       " '12-clip': '22.75',\n",
       " '4-clip_preembed': '24.5',\n",
       " '6-clip_preembed': '22.5',\n",
       " '8-clip_preembed': '23.5',\n",
       " '5e-06-8-clip': '24.75',\n",
       " '1e-06-8-clip': '23.25',\n",
       " '1e-05-8-clip': '23.5',\n",
       " '12-clip_preembed': '20.0'}"
      ]
     },
     "execution_count": 2,
     "metadata": {},
     "output_type": "execute_result"
    }
   ],
   "source": [
    "text_correct"
   ]
  },
  {
   "cell_type": "code",
   "execution_count": 3,
   "metadata": {},
   "outputs": [
    {
     "data": {
      "text/plain": [
       "{'clip32-clip32_baseline': '10.5',\n",
       " '1e-06-clip-clip_baseline': '11.25',\n",
       " '5e-06-clip-clip_baseline': '12.0',\n",
       " '1e-05-clip-clip_baseline': '14.25',\n",
       " '4-clip': '10.25',\n",
       " '6-clip': '8.5',\n",
       " '8-clip': '14.0',\n",
       " '12-clip': '10.75',\n",
       " '4-clip_preembed': '9.0',\n",
       " '6-clip_preembed': '13.25',\n",
       " '8-clip_preembed': '11.75',\n",
       " '5e-06-8-clip': '14.5',\n",
       " '1e-06-8-clip': '12.75',\n",
       " '1e-05-8-clip': '13.75',\n",
       " '12-clip_preembed': '10.0'}"
      ]
     },
     "execution_count": 3,
     "metadata": {},
     "output_type": "execute_result"
    }
   ],
   "source": [
    "image_correct"
   ]
  },
  {
   "cell_type": "code",
   "execution_count": 4,
   "metadata": {},
   "outputs": [
    {
     "data": {
      "text/plain": [
       "{'clip32-clip32_baseline': '8.0',\n",
       " '1e-06-clip-clip_baseline': '9.0',\n",
       " '5e-06-clip-clip_baseline': '7.25',\n",
       " '1e-05-clip-clip_baseline': '10.5',\n",
       " '4-clip': '7.0',\n",
       " '6-clip': '6.5',\n",
       " '8-clip': '8.0',\n",
       " '12-clip': '6.75',\n",
       " '4-clip_preembed': '4.5',\n",
       " '6-clip_preembed': '8.5',\n",
       " '8-clip_preembed': '7.5',\n",
       " '5e-06-8-clip': '9.25',\n",
       " '1e-06-8-clip': '8.25',\n",
       " '1e-05-8-clip': '8.75',\n",
       " '12-clip_preembed': '6.0'}"
      ]
     },
     "execution_count": 4,
     "metadata": {},
     "output_type": "execute_result"
    }
   ],
   "source": [
    "group_correct"
   ]
  },
  {
   "cell_type": "code",
   "execution_count": 5,
   "metadata": {},
   "outputs": [
    {
     "name": "stdout",
     "output_type": "stream",
     "text": [
      "clip32-clip32_baseline\n",
      "1e-06-clip-clip_baseline\n",
      "5e-06-clip-clip_baseline\n",
      "1e-05-clip-clip_baseline\n",
      "4-clip\n",
      "6-clip\n",
      "8-clip\n",
      "12-clip\n",
      "4-clip_preembed\n",
      "6-clip_preembed\n",
      "8-clip_preembed\n",
      "5e-06-8-clip\n",
      "1e-06-8-clip\n",
      "1e-05-8-clip\n",
      "12-clip_preembed\n"
     ]
    }
   ],
   "source": [
    "import re\n",
    "\n",
    "\n",
    "exps = [\n",
    "    'clip32-clip32_baseline',\n",
    "    '1e-06-clip-clip_baseline',\n",
    "    '5e-06-clip-clip_baseline',\n",
    "    '1e-05-clip-clip_baseline',\n",
    "    '4-clip',\n",
    "    '6-clip',\n",
    "    '8-clip',\n",
    "    '12-clip',\n",
    "    '4-clip_preembed',\n",
    "    '6-clip_preembed',\n",
    "    '8-clip_preembed',\n",
    "    '5e-06-8-clip',\n",
    "    '1e-06-8-clip',\n",
    "    '1e-05-8-clip',\n",
    "    '12-clip_preembed',\n",
    "]\n",
    "\n",
    "vgr_accuracy = {}\n",
    "vga_accuracy = {}\n",
    "coco_accuracy = {}\n",
    "for exp in exps:\n",
    "    print(exp)\n",
    "    with open(f'results/{exp}/aro_vgr.log') as f:\n",
    "        lines = f.read()\n",
    "        vgr_accuracy[exp] = re.findall(r'Accuracy: (.*)', lines)[0]\n",
    "\n",
    "    with open(f'results/{exp}/aro_vga.log') as f:\n",
    "        lines = f.read()\n",
    "        vga_accuracy[exp] = re.findall(r'Accuracy: (.*)', lines)[0]\n",
    "\n",
    "    with open(f'results/{exp}/aro_coco_order.log') as f:\n",
    "        lines = f.read()\n",
    "        coco_accuracy[exp] = re.findall(r'Accuracy: (.*)', lines)[0]\n",
    "    "
   ]
  },
  {
   "cell_type": "code",
   "execution_count": 6,
   "metadata": {},
   "outputs": [
    {
     "data": {
      "text/plain": [
       "{'clip32-clip32_baseline': '0.5998804304669152',\n",
       " '1e-06-clip-clip_baseline': '0.5199365482953671',\n",
       " '5e-06-clip-clip_baseline': '0.5367447799487618',\n",
       " '1e-05-clip-clip_baseline': '0.5762294154434424',\n",
       " '4-clip': '0.6672144051165193',\n",
       " '6-clip': '0.6536464854469433',\n",
       " '8-clip': '0.6670512971426975',\n",
       " '12-clip': '0.6646038137681215',\n",
       " '4-clip_preembed': '0.6252512396464508',\n",
       " '6-clip_preembed': '0.657759474798172',\n",
       " '8-clip_preembed': '0.6633227095415984',\n",
       " '5e-06-8-clip': '0.6694819310649275',\n",
       " '1e-06-8-clip': '0.5938398589399367',\n",
       " '1e-05-8-clip': '0.633557623941109',\n",
       " '12-clip_preembed': '0.6159586814877351'}"
      ]
     },
     "execution_count": 6,
     "metadata": {},
     "output_type": "execute_result"
    }
   ],
   "source": [
    "vgr_accuracy"
   ]
  },
  {
   "cell_type": "code",
   "execution_count": 7,
   "metadata": {},
   "outputs": [
    {
     "data": {
      "text/plain": [
       "{'clip32-clip32_baseline': '0.6318266999257814',\n",
       " '1e-06-clip-clip_baseline': '0.6382919449323278',\n",
       " '5e-06-clip-clip_baseline': '0.650019716389582',\n",
       " '1e-05-clip-clip_baseline': '0.660418897097688',\n",
       " '4-clip': '0.6401802950945268',\n",
       " '6-clip': '0.6074239546249294',\n",
       " '8-clip': '0.6185441433011859',\n",
       " '12-clip': '0.6319781663241015',\n",
       " '4-clip_preembed': '0.6099955888003361',\n",
       " '6-clip_preembed': '0.618728295016261',\n",
       " '8-clip_preembed': '0.6104193182520224',\n",
       " '5e-06-8-clip': '0.6180615702293957',\n",
       " '1e-06-8-clip': '0.5970312103877764',\n",
       " '1e-05-8-clip': '0.6368296160240917',\n",
       " '12-clip_preembed': '0.6214805007759049'}"
      ]
     },
     "execution_count": 7,
     "metadata": {},
     "output_type": "execute_result"
    }
   ],
   "source": [
    "vga_accuracy"
   ]
  },
  {
   "cell_type": "code",
   "execution_count": 8,
   "metadata": {},
   "outputs": [
    {
     "data": {
      "text/plain": [
       "{'clip32-clip32_baseline': '0.4743702518992403',\n",
       " '1e-06-clip-clip_baseline': '0.3394642143142743',\n",
       " '5e-06-clip-clip_baseline': '0.41799280287884844',\n",
       " '1e-05-clip-clip_baseline': '0.4504198320671731',\n",
       " '4-clip': '0.20859656137544982',\n",
       " '6-clip': '0.20363854458216712',\n",
       " '8-clip': '0.19684126349460215',\n",
       " '12-clip': '0.21691323470611756',\n",
       " '4-clip_preembed': '0.20247900839664135',\n",
       " '6-clip_preembed': '0.2122750899640144',\n",
       " '8-clip_preembed': '0.22842862854858056',\n",
       " '5e-06-8-clip': '0.20775689724110355',\n",
       " '1e-06-8-clip': '0.08156737305077968',\n",
       " '1e-05-8-clip': '0.20119952019192322',\n",
       " '12-clip_preembed': '0.19292283086765294'}"
      ]
     },
     "execution_count": 8,
     "metadata": {},
     "output_type": "execute_result"
    }
   ],
   "source": [
    "coco_accuracy"
   ]
  },
  {
   "cell_type": "code",
   "execution_count": null,
   "metadata": {},
   "outputs": [],
   "source": []
  }
 ],
 "metadata": {
  "kernelspec": {
   "display_name": "work",
   "language": "python",
   "name": "python3"
  },
  "language_info": {
   "codemirror_mode": {
    "name": "ipython",
    "version": 3
   },
   "file_extension": ".py",
   "mimetype": "text/x-python",
   "name": "python",
   "nbconvert_exporter": "python",
   "pygments_lexer": "ipython3",
   "version": "3.11.2"
  }
 },
 "nbformat": 4,
 "nbformat_minor": 2
}
